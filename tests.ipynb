{
 "cells": [
  {
   "cell_type": "code",
   "execution_count": 20,
   "metadata": {
    "collapsed": true,
    "pycharm": {
     "is_executing": false
    }
   },
   "outputs": [],
   "source": [
    "import torch\n",
    "from past.builtins import reduce\n",
    "from torch.distributions import Normal\n",
    "import numpy as np"
   ]
  },
  {
   "cell_type": "code",
   "execution_count": 11,
   "outputs": [],
   "source": [
    "N = Normal(loc=torch.tensor(0.5, dtype=torch.float), \n",
    "           scale=torch.tensor(1, dtype=torch.float))\n"
   ],
   "metadata": {
    "collapsed": false,
    "pycharm": {
     "name": "#%%\n",
     "is_executing": false
    }
   }
  },
  {
   "cell_type": "code",
   "execution_count": 13,
   "outputs": [
    {
     "name": "stdout",
     "text": [
      "tensor(-0.9989)\n",
      "-0.08000000000000002\n"
     ],
     "output_type": "stream"
    }
   ],
   "source": [
    "print(N.log_prob(torch.tensor(0.1, dtype=torch.float)))\n",
    "print(-((0.1 - 0.5)**2 / (2 * 1))  - np.log(2 * np.pi * 1))"
   ],
   "metadata": {
    "collapsed": false,
    "pycharm": {
     "name": "#%%\n",
     "is_executing": false
    }
   }
  },
  {
   "cell_type": "code",
   "execution_count": 16,
   "outputs": [
    {
     "name": "stdout",
     "text": [
      "tensor([12,  6])\n"
     ],
     "output_type": "stream"
    }
   ],
   "source": [
    "T = torch.tensor([6, 3])\n",
    "print(2*T)\n",
    "\n",
    "for i in reversed(range(20)):\n",
    "    print(i)"
   ],
   "metadata": {
    "collapsed": false,
    "pycharm": {
     "name": "#%%\n",
     "is_executing": false
    }
   }
  },
  {
   "cell_type": "code",
   "execution_count": 44,
   "outputs": [],
   "source": [
    "seq = torch.tensor([1, 2, 3, 4], dtype=torch.float)\n",
    "target_cs = torch.cumsum(seq, dim=0) \n",
    "target_loop = torch.zeros_like(seq)\n",
    "for i in range(seq.shape[0] - 1):\n",
    "    target_loop[i] = torch.sum(seq[:i+1])\n",
    "    "
   ],
   "metadata": {
    "collapsed": false,
    "pycharm": {
     "name": "#%%\n",
     "is_executing": false
    }
   }
  },
  {
   "cell_type": "code",
   "execution_count": 38,
   "outputs": [
    {
     "data": {
      "text/plain": "tensor(3.)"
     },
     "metadata": {},
     "output_type": "execute_result",
     "execution_count": 38
    }
   ],
   "source": [
    "torch.sum(seq[:2])\n",
    "\n"
   ],
   "metadata": {
    "collapsed": false,
    "pycharm": {
     "name": "#%%\n",
     "is_executing": false
    }
   }
  },
  {
   "cell_type": "code",
   "execution_count": 62,
   "outputs": [
    {
     "name": "stdout",
     "text": [
      "tensor([[1., 2., 3., 4.],\n",
      "        [1., 2., 3., 4.],\n",
      "        [1., 2., 3., 4.]])\n"
     ],
     "output_type": "stream"
    }
   ],
   "source": [
    "t = torch.tensor([1,2,3,4], dtype=torch.float).expand(3,4)\n",
    "print(t)\n",
    "\n"
   ],
   "metadata": {
    "collapsed": false,
    "pycharm": {
     "name": "#%%\n",
     "is_executing": false
    }
   }
  },
  {
   "cell_type": "code",
   "execution_count": 66,
   "outputs": [
    {
     "name": "stdout",
     "text": [
      "tensor([1., 2., 3., 4.])\n",
      "tensor([4., 3., 2., 1.])\n"
     ],
     "output_type": "stream"
    }
   ],
   "source": [
    "print(t[0,:])\n",
    "print(t[0,:].flip(dims=[0]))\n"
   ],
   "metadata": {
    "collapsed": false,
    "pycharm": {
     "name": "#%%\n",
     "is_executing": false
    }
   }
  },
  {
   "cell_type": "code",
   "execution_count": 6,
   "outputs": [
    {
     "data": {
      "text/plain": "<Figure size 432x288 with 1 Axes>",
      "image/png": "[encoded data removed]"
     },
     "metadata": {
      "needs_background": "light"
     },
     "output_type": "display_data"
    }
   ],
   "source": [
    "import matplotlib.pyplot as plt\n",
    "import numpy as np\n",
    "plt.plot(np.linspace(-5, 5, 100), 2* np.tanh(np.linspace(-5, 5, 100)))\n",
    "plt.grid()"
   ],
   "metadata": {
    "collapsed": false,
    "pycharm": {
     "name": "#%%\n",
     "is_executing": false
    }
   }
  },
  {
   "cell_type": "code",
   "execution_count": 1,
   "outputs": [],
   "source": [
    "from continous_action_RL.actor_critic_networks import Actor\n",
    "actor = Actor(num_actions=1,\n",
    "              num_obs=3,\n",
    "              mean_scale=1,\n",
    "              std_low=0.01,\n",
    "              std_high=1,\n",
    "              action_bound=(-2, 2))\n"
   ],
   "metadata": {
    "collapsed": false,
    "pycharm": {
     "name": "#%%\n",
     "is_executing": false
    }
   }
  },
  {
   "cell_type": "code",
   "execution_count": 4,
   "outputs": [
    {
     "name": "stdout",
     "text": [
      "input.weight\n",
      "Parameter containing:\n",
      "tensor([[-0.5306,  0.4121,  0.3737],\n",
      "        [ 0.2035, -0.1478, -0.0117],\n",
      "        [-0.2747, -0.3961,  0.5603],\n",
      "        [-0.2620,  0.3450,  0.3055],\n",
      "        [ 0.1071,  0.2254, -0.0064],\n",
      "        [-0.3258,  0.0852,  0.1425],\n",
      "        [-0.4930, -0.4460, -0.4599],\n",
      "        [-0.3996, -0.0039,  0.0321],\n",
      "        [-0.2596, -0.1749,  0.2594],\n",
      "        [ 0.1824,  0.1583,  0.0616],\n",
      "        [ 0.5164, -0.1159,  0.2100],\n",
      "        [-0.5503,  0.1610, -0.1164],\n",
      "        [-0.5679,  0.5714, -0.0059],\n",
      "        [-0.0462, -0.0511, -0.5025],\n",
      "        [ 0.5197, -0.1071,  0.5648],\n",
      "        [ 0.1332, -0.2351,  0.3298],\n",
      "        [ 0.5757, -0.0442,  0.0828],\n",
      "        [-0.2413, -0.1948, -0.0498],\n",
      "        [ 0.4846, -0.0598,  0.3251],\n",
      "        [ 0.3830,  0.2789,  0.2153],\n",
      "        [-0.0901, -0.5120, -0.3767],\n",
      "        [-0.5170, -0.1353, -0.1239],\n",
      "        [-0.3548,  0.4458,  0.0289],\n",
      "        [-0.0783, -0.1651, -0.2816],\n",
      "        [ 0.3894, -0.5014, -0.2283],\n",
      "        [-0.4817, -0.4661, -0.0141],\n",
      "        [ 0.3988, -0.3109,  0.4355],\n",
      "        [ 0.2608, -0.3471, -0.3425],\n",
      "        [-0.3945, -0.3480,  0.2915],\n",
      "        [ 0.3603,  0.3529,  0.4481],\n",
      "        [ 0.2195,  0.0713, -0.1869],\n",
      "        [ 0.4300, -0.1297,  0.0879],\n",
      "        [ 0.2951,  0.3059, -0.3789],\n",
      "        [ 0.3869,  0.4501, -0.1465],\n",
      "        [ 0.5512,  0.3236, -0.3373],\n",
      "        [ 0.5609, -0.0186,  0.2689],\n",
      "        [-0.0950, -0.2620,  0.0398],\n",
      "        [ 0.1049, -0.0324,  0.3738],\n",
      "        [-0.1040, -0.1756,  0.0903],\n",
      "        [-0.0255,  0.1369, -0.4078],\n",
      "        [-0.2222,  0.4228,  0.2046],\n",
      "        [ 0.4827,  0.2241,  0.4772],\n",
      "        [ 0.4266,  0.5342, -0.3337],\n",
      "        [-0.2481, -0.1871, -0.3384],\n",
      "        [ 0.1162,  0.1008,  0.3325],\n",
      "        [ 0.0136, -0.0722,  0.0567],\n",
      "        [-0.4398,  0.0180,  0.1159],\n",
      "        [ 0.2806, -0.0102,  0.3855],\n",
      "        [ 0.0922, -0.2390, -0.5585],\n",
      "        [-0.0646, -0.4923,  0.2608],\n",
      "        [ 0.1611, -0.3730,  0.3300],\n",
      "        [-0.0803, -0.1351,  0.1185],\n",
      "        [-0.1535,  0.2067, -0.0080],\n",
      "        [-0.3789,  0.2321,  0.3409],\n",
      "        [-0.5747,  0.2875, -0.2468],\n",
      "        [-0.5324,  0.2741, -0.1499],\n",
      "        [-0.3937,  0.3913, -0.2182],\n",
      "        [ 0.4388, -0.5265,  0.3062],\n",
      "        [-0.5757,  0.5403, -0.1108],\n",
      "        [ 0.0787,  0.3112,  0.2310],\n",
      "        [-0.3406,  0.2625,  0.5251],\n",
      "        [ 0.2023,  0.0852,  0.5188],\n",
      "        [-0.2658,  0.2170,  0.1623],\n",
      "        [ 0.0070,  0.0132, -0.2488]], requires_grad=True)\n",
      "input.bias\n",
      "Parameter containing:\n",
      "tensor([ 0.5664,  0.3007,  0.0230, -0.3431, -0.3303,  0.3669, -0.1216, -0.3253,\n",
      "        -0.0661,  0.4388, -0.1457, -0.3289, -0.1866,  0.2017, -0.0485, -0.0097,\n",
      "        -0.4577, -0.1297, -0.0219, -0.4589, -0.1076,  0.3734,  0.5400, -0.4295,\n",
      "         0.3241, -0.5000, -0.0446, -0.3655,  0.2318,  0.2106, -0.4334,  0.4970,\n",
      "        -0.2065,  0.0744,  0.0203,  0.0862, -0.2165,  0.3051, -0.5442, -0.4898,\n",
      "         0.0841,  0.1771, -0.2111,  0.2887, -0.2573,  0.0207, -0.2671, -0.4895,\n",
      "         0.3116, -0.5442, -0.3873,  0.2983,  0.5762,  0.3264, -0.4483,  0.3546,\n",
      "        -0.3017, -0.2054,  0.2542,  0.1442, -0.2176, -0.3526, -0.3826, -0.0684],\n",
      "       requires_grad=True)\n",
      "hidden.weight\n",
      "Parameter containing:\n",
      "tensor([[-0.0132, -0.0267, -0.0890,  ...,  0.0510, -0.0957, -0.0866],\n",
      "        [-0.0617,  0.0568,  0.1219,  ...,  0.0841,  0.0238,  0.0392],\n",
      "        [-0.0663,  0.0162, -0.0414,  ..., -0.0258, -0.1180,  0.0336],\n",
      "        ...,\n",
      "        [ 0.0248, -0.0876,  0.0030,  ..., -0.0748, -0.0615,  0.1105],\n",
      "        [-0.0947, -0.0300, -0.1185,  ...,  0.0834,  0.0555,  0.0448],\n",
      "        [ 0.0271,  0.1082, -0.0666,  ..., -0.0522, -0.0221,  0.0758]],\n",
      "       requires_grad=True)\n",
      "hidden.bias\n",
      "Parameter containing:\n",
      "tensor([-0.0987, -0.1152, -0.0876, -0.1152,  0.0971, -0.0553, -0.0200,  0.0540,\n",
      "         0.1103,  0.0996, -0.0241,  0.0401, -0.0959,  0.0844,  0.0690, -0.0961,\n",
      "        -0.0708, -0.0395,  0.1172, -0.0896, -0.0675,  0.1153,  0.0570,  0.0464,\n",
      "         0.0827,  0.0152, -0.0708, -0.1132,  0.0242, -0.1199, -0.0754,  0.0772,\n",
      "         0.0702, -0.0370,  0.1054,  0.0408,  0.0699, -0.0846,  0.0733, -0.0181,\n",
      "         0.0522,  0.0079, -0.1085,  0.1212, -0.0100, -0.0663,  0.1137,  0.0420,\n",
      "         0.0527, -0.1175,  0.0460, -0.0292, -0.1184,  0.0382, -0.0243,  0.0279,\n",
      "         0.0696, -0.0015,  0.0577,  0.0538, -0.0183, -0.0067,  0.1158,  0.1132],\n",
      "       requires_grad=True)\n",
      "output.weight\n",
      "Parameter containing:\n",
      "tensor([[-0.0637,  0.0447, -0.0202,  0.0934, -0.0033, -0.0523, -0.0572,  0.0971,\n",
      "         -0.0245,  0.0045, -0.1008, -0.0187,  0.0695, -0.0611, -0.1008,  0.0884,\n",
      "          0.0647, -0.0736, -0.0165,  0.0465, -0.0663, -0.1038, -0.1139, -0.0792,\n",
      "          0.1013, -0.1164,  0.0304,  0.0162,  0.0302, -0.0321,  0.0054, -0.0519,\n",
      "          0.1025, -0.0524, -0.0006,  0.0077, -0.1070, -0.0377, -0.0731,  0.0127,\n",
      "          0.0415, -0.0255,  0.0619, -0.0399, -0.0664, -0.0034,  0.0473, -0.0243,\n",
      "          0.0230, -0.0069,  0.0583, -0.0371,  0.0017, -0.0114,  0.0305,  0.1042,\n",
      "         -0.1007,  0.0651, -0.0829, -0.1051, -0.0069, -0.1032,  0.0195,  0.0057],\n",
      "        [-0.0107,  0.0747, -0.0035,  0.1168, -0.0645, -0.0778, -0.0869, -0.0608,\n",
      "          0.0418,  0.0569,  0.0495,  0.0035, -0.0929, -0.0774,  0.0048, -0.0589,\n",
      "          0.0435,  0.0781, -0.1166,  0.0273,  0.0190,  0.0740, -0.0121, -0.0402,\n",
      "          0.0082, -0.1070, -0.0759, -0.0319, -0.0918,  0.0297,  0.0562, -0.0285,\n",
      "          0.0206, -0.0019,  0.0896, -0.1156,  0.1176,  0.0151,  0.0461, -0.1199,\n",
      "         -0.0716, -0.0457,  0.0142,  0.1137, -0.0769,  0.0329,  0.0274,  0.1159,\n",
      "          0.0813, -0.0799,  0.0651,  0.0670, -0.0090, -0.0204,  0.0546, -0.0443,\n",
      "          0.0430,  0.0315, -0.0966,  0.0581, -0.0220,  0.0460,  0.1018,  0.0529]],\n",
      "       requires_grad=True)\n",
      "output.bias\n",
      "Parameter containing:\n",
      "tensor([-0.0960, -0.1005], requires_grad=True)\n"
     ],
     "output_type": "stream"
    }
   ],
   "source": [
    "for name, parameters in actor.named_parameters():\n",
    "    print(name)\n",
    "    print(parameters)"
   ],
   "metadata": {
    "collapsed": false,
    "pycharm": {
     "name": "#%%\n",
     "is_executing": false
    }
   }
  },
  {
   "cell_type": "code",
   "execution_count": 5,
   "outputs": [
    {
     "traceback": [
      "\u001b[0;31m---------------------------------------------------------------------------\u001b[0m",
      "\u001b[0;31mAttributeError\u001b[0m                            Traceback (most recent call last)",
      "\u001b[0;32m<ipython-input-5-d4565f5a7b8d>\u001b[0m in \u001b[0;36m<module>\u001b[0;34m\u001b[0m\n\u001b[1;32m      1\u001b[0m \u001b[0;32mfor\u001b[0m \u001b[0mindex\u001b[0m\u001b[0;34m,\u001b[0m \u001b[0mweight\u001b[0m \u001b[0;32min\u001b[0m \u001b[0mactor\u001b[0m\u001b[0;34m.\u001b[0m\u001b[0mnamed_parameters\u001b[0m\u001b[0;34m(\u001b[0m\u001b[0;34m)\u001b[0m\u001b[0;34m:\u001b[0m\u001b[0;34m\u001b[0m\u001b[0;34m\u001b[0m\u001b[0m\n\u001b[0;32m----> 2\u001b[0;31m     \u001b[0mgradient\u001b[0m\u001b[0;34m,\u001b[0m \u001b[0;34m*\u001b[0m\u001b[0m_\u001b[0m \u001b[0;34m=\u001b[0m \u001b[0mweight\u001b[0m\u001b[0;34m.\u001b[0m\u001b[0mgrad\u001b[0m\u001b[0;34m.\u001b[0m\u001b[0mdata\u001b[0m\u001b[0;34m\u001b[0m\u001b[0;34m\u001b[0m\u001b[0m\n\u001b[0m\u001b[1;32m      3\u001b[0m     \u001b[0mprint\u001b[0m\u001b[0;34m(\u001b[0m\u001b[0;34mf\"Gradient of w{index} w.r.t to L: {gradient}\"\u001b[0m\u001b[0;34m)\u001b[0m\u001b[0;34m\u001b[0m\u001b[0;34m\u001b[0m\u001b[0m\n\u001b[1;32m      4\u001b[0m \u001b[0;34m\u001b[0m\u001b[0m\n",
      "\u001b[0;31mAttributeError\u001b[0m: 'NoneType' object has no attribute 'data'"
     ],
     "ename": "AttributeError",
     "evalue": "'NoneType' object has no attribute 'data'",
     "output_type": "error"
    }
   ],
   "source": [
    "for index, weight in actor.named_parameters():\n",
    "    gradient, *_ = weight.grad.data"
   ],
   "metadata": {
    "collapsed": false,
    "pycharm": {
     "name": "#%%\n",
     "is_executing": false
    }
   }
  },
  {
   "cell_type": "code",
   "execution_count": 12,
   "outputs": [
    {
     "name": "stderr",
     "text": [
      "/Users/blessing/PycharmProjects/ContinousActionRL/carl/lib/python3.7/site-packages/torch/nn/functional.py:1558: UserWarning: nn.functional.tanh is deprecated. Use torch.tanh instead.\n",
      "  warnings.warn(\"nn.functional.tanh is deprecated. Use torch.tanh instead.\")\n"
     ],
     "output_type": "stream"
    },
    {
     "data": {
      "text/plain": "(tensor(0.2058, grad_fn=<ClampBackward>),\n tensor(-1.7994, grad_fn=<DivBackward0>))"
     },
     "metadata": {},
     "output_type": "execute_result",
     "execution_count": 12
    }
   ],
   "source": [
    "import torch\n",
    "import gym\n",
    "\n",
    "env = gym.make(\"Pendulum-v0\")\n",
    "\n",
    "\n",
    "obs = env.reset()\n",
    "actor(torch.tensor(obs, dtype=torch.float))"
   ],
   "metadata": {
    "collapsed": false,
    "pycharm": {
     "name": "#%%\n",
     "is_executing": false
    }
   }
  },
  {
   "cell_type": "code",
   "execution_count": 15,
   "outputs": [
    {
     "name": "stdout",
     "text": [
      "tensor([[1, 2, 3, 4],\n",
      "        [1, 2, 3, 4],\n",
      "        [1, 2, 3, 4]])\n"
     ],
     "output_type": "stream"
    }
   ],
   "source": [
    "import torch as th\n",
    "t = torch.tensor((1,2,3,4)).expand(3,4)\n",
    "print(t)"
   ],
   "metadata": {
    "collapsed": false,
    "pycharm": {
     "name": "#%%\n",
     "is_executing": false
    }
   }
  },
  {
   "cell_type": "code",
   "execution_count": 16,
   "outputs": [
    {
     "name": "stdout",
     "text": [
      "tensor([[10,  9,  7,  4],\n",
      "        [10,  9,  7,  4],\n",
      "        [10,  9,  7,  4]])\n"
     ],
     "output_type": "stream"
    }
   ],
   "source": [
    "print(th.flip(th.cumsum(th.flip(t, [1]), 1), [1]))"
   ],
   "metadata": {
    "collapsed": false,
    "pycharm": {
     "name": "#%%\n",
     "is_executing": false
    }
   }
  },
  {
   "cell_type": "code",
   "execution_count": 8,
   "outputs": [
    {
     "traceback": [
      "\u001b[0;31m---------------------------------------------------------------------------\u001b[0m",
      "\u001b[0;31mNameError\u001b[0m                                 Traceback (most recent call last)",
      "\u001b[0;32m<ipython-input-8-cd2eede5c839>\u001b[0m in \u001b[0;36m<module>\u001b[0;34m\u001b[0m\n\u001b[0;32m----> 1\u001b[0;31m \u001b[0mprint\u001b[0m\u001b[0;34m(\u001b[0m\u001b[0mrl2cumsum\u001b[0m\u001b[0;34m)\u001b[0m\u001b[0;34m\u001b[0m\u001b[0;34m\u001b[0m\u001b[0m\n\u001b[0m\u001b[1;32m      2\u001b[0m \u001b[0;34m\u001b[0m\u001b[0m\n\u001b[1;32m      3\u001b[0m \u001b[0;34m\u001b[0m\u001b[0m\n",
      "\u001b[0;31mNameError\u001b[0m: name 'rl2cumsum' is not defined"
     ],
     "ename": "NameError",
     "evalue": "name 'rl2cumsum' is not defined",
     "output_type": "error"
    }
   ],
   "source": [],
   "metadata": {
    "collapsed": false,
    "pycharm": {
     "name": "#%%\n",
     "is_executing": false
    }
   }
  },
  {
   "cell_type": "code",
   "execution_count": 17,
   "outputs": [],
   "source": [
    "def cumsum_reversed(sequence):\n",
    "    return torch.flip(torch.cumsum(torch.flip(sequence, [1]), 1), [1])\n",
    "\n",
    "def reverse_sequence(sequence, num_sequences, dim=0):\n",
    "    sequence = sequence.unsqueeze(2)\n",
    "    for i in range(num_sequences):\n",
    "        sequence[i, :] = sequence[i, :].flip(dims=[dim])\n",
    "    return sequence.squeeze(-1)\n"
   ],
   "metadata": {
    "collapsed": false,
    "pycharm": {
     "name": "#%%\n",
     "is_executing": false
    }
   }
  },
  {
   "cell_type": "code",
   "execution_count": 21,
   "outputs": [
    {
     "name": "stdout",
     "text": [
      "tensor([[10,  9,  7,  4],\n",
      "        [10,  9,  7,  4],\n",
      "        [10,  9,  7,  4]])\n",
      "tensor([[ 4,  7,  9, 10],\n",
      "        [ 4,  7,  9, 10],\n",
      "        [ 4,  7,  9, 10]])\n"
     ],
     "output_type": "stream"
    }
   ],
   "source": [
    "t = torch.tensor((1,2,3,4)).expand(3,4)\n",
    "print(cumsum_reversed(t))\n",
    "print(torch.cumsum(reverse_sequence(t, 3), dim=1))\n"
   ],
   "metadata": {
    "collapsed": false,
    "pycharm": {
     "name": "#%%\n",
     "is_executing": false
    }
   }
  },
  {
   "cell_type": "code",
   "execution_count": 30,
   "outputs": [
    {
     "name": "stdout",
     "text": [
      "tensor([[24,  6,  2,  1],\n",
      "        [24,  6,  2,  1],\n",
      "        [24,  6,  2,  1]])\n",
      "tensor([[24,  6,  2,  1],\n",
      "        [24,  6,  2,  1],\n",
      "        [24,  6,  2,  1]])\n"
     ],
     "output_type": "stream"
    }
   ],
   "source": [
    "def cumprod_reversed(sequence):\n",
    "    return torch.flip(torch.cumprod(sequence, 1), [1])\n",
    "\n",
    "\n",
    "print(cumprod_reversed(t))\n",
    "print(reverse_sequence(torch.cumprod(t, dim=1),3))"
   ],
   "metadata": {
    "collapsed": false,
    "pycharm": {
     "name": "#%%\n",
     "is_executing": false
    }
   }
  },
  {
   "cell_type": "code",
   "execution_count": 36,
   "outputs": [
    {
     "name": "stdout",
     "text": [
      "tensor(1.)\n"
     ],
     "output_type": "stream"
    }
   ],
   "source": [
    "from torch.distributions import Normal\n",
    "print(Normal(loc=1, scale=0).sample())"
   ],
   "metadata": {
    "collapsed": false,
    "pycharm": {
     "name": "#%%\n",
     "is_executing": false
    }
   }
  },
  {
   "cell_type": "code",
   "execution_count": 40,
   "outputs": [
    {
     "name": "stdout",
     "text": [
      "tensor([[ 0.2922,  0.1609, -0.6698, -0.3805, -0.5435],\n",
      "        [-0.6818,  0.3710,  0.3127, -0.1772, -0.5181],\n",
      "        [-0.4785, -0.8220, -0.2821, -0.0668, -0.1063]])\n",
      "tensor([[ 0.1652,  0.0596, -0.2699,  ..., -0.0277, -0.1337,  0.4164],\n",
      "        [-0.3586, -0.1359, -0.1695,  ..., -0.0384,  0.0128, -0.3585],\n",
      "        [-0.1484,  0.0308, -0.0086,  ..., -0.1775, -0.0721,  0.0364],\n",
      "        ...,\n",
      "        [-0.3238, -0.0804, -0.0114,  ..., -0.1628,  0.2270, -0.1142],\n",
      "        [-0.0722, -0.1598,  0.1941,  ...,  0.3712,  0.0247, -0.1721],\n",
      "        [-0.1228,  0.1130, -0.0046,  ..., -0.0567, -0.3834,  0.0311]])\n"
     ],
     "output_type": "stream"
    }
   ],
   "source": [
    "import torch\n",
    "w = torch.empty(3, 5)\n",
    "print(torch.nn.init.orthogonal_(w))\n",
    "\n",
    "w = torch.empty(300, 500)\n",
    "\n"
   ],
   "metadata": {
    "collapsed": false,
    "pycharm": {
     "name": "#%%\n",
     "is_executing": false
    }
   }
  },
  {
   "cell_type": "code",
   "execution_count": 1,
   "outputs": [
    {
     "name": "stderr",
     "text": [
      "/Users/blessing/PycharmProjects/ContinousActionRL/carl/lib/python3.7/site-packages/tensorflow/python/framework/dtypes.py:516: FutureWarning: Passing (type, 1) or '1type' as a synonym of type is deprecated; in a future version of numpy, it will be understood as (type, (1,)) / '(1,)type'.\n",
      "  _np_qint8 = np.dtype([(\"qint8\", np.int8, 1)])\n",
      "/Users/blessing/PycharmProjects/ContinousActionRL/carl/lib/python3.7/site-packages/tensorflow/python/framework/dtypes.py:517: FutureWarning: Passing (type, 1) or '1type' as a synonym of type is deprecated; in a future version of numpy, it will be understood as (type, (1,)) / '(1,)type'.\n",
      "  _np_quint8 = np.dtype([(\"quint8\", np.uint8, 1)])\n",
      "/Users/blessing/PycharmProjects/ContinousActionRL/carl/lib/python3.7/site-packages/tensorflow/python/framework/dtypes.py:518: FutureWarning: Passing (type, 1) or '1type' as a synonym of type is deprecated; in a future version of numpy, it will be understood as (type, (1,)) / '(1,)type'.\n",
      "  _np_qint16 = np.dtype([(\"qint16\", np.int16, 1)])\n",
      "/Users/blessing/PycharmProjects/ContinousActionRL/carl/lib/python3.7/site-packages/tensorflow/python/framework/dtypes.py:519: FutureWarning: Passing (type, 1) or '1type' as a synonym of type is deprecated; in a future version of numpy, it will be understood as (type, (1,)) / '(1,)type'.\n",
      "  _np_quint16 = np.dtype([(\"quint16\", np.uint16, 1)])\n",
      "/Users/blessing/PycharmProjects/ContinousActionRL/carl/lib/python3.7/site-packages/tensorflow/python/framework/dtypes.py:520: FutureWarning: Passing (type, 1) or '1type' as a synonym of type is deprecated; in a future version of numpy, it will be understood as (type, (1,)) / '(1,)type'.\n",
      "  _np_qint32 = np.dtype([(\"qint32\", np.int32, 1)])\n",
      "/Users/blessing/PycharmProjects/ContinousActionRL/carl/lib/python3.7/site-packages/tensorflow/python/framework/dtypes.py:525: FutureWarning: Passing (type, 1) or '1type' as a synonym of type is deprecated; in a future version of numpy, it will be understood as (type, (1,)) / '(1,)type'.\n",
      "  np_resource = np.dtype([(\"resource\", np.ubyte, 1)])\n",
      "/Users/blessing/PycharmProjects/ContinousActionRL/carl/lib/python3.7/site-packages/tensorboard/compat/tensorflow_stub/dtypes.py:541: FutureWarning: Passing (type, 1) or '1type' as a synonym of type is deprecated; in a future version of numpy, it will be understood as (type, (1,)) / '(1,)type'.\n",
      "  _np_qint8 = np.dtype([(\"qint8\", np.int8, 1)])\n",
      "/Users/blessing/PycharmProjects/ContinousActionRL/carl/lib/python3.7/site-packages/tensorboard/compat/tensorflow_stub/dtypes.py:542: FutureWarning: Passing (type, 1) or '1type' as a synonym of type is deprecated; in a future version of numpy, it will be understood as (type, (1,)) / '(1,)type'.\n",
      "  _np_quint8 = np.dtype([(\"quint8\", np.uint8, 1)])\n",
      "/Users/blessing/PycharmProjects/ContinousActionRL/carl/lib/python3.7/site-packages/tensorboard/compat/tensorflow_stub/dtypes.py:543: FutureWarning: Passing (type, 1) or '1type' as a synonym of type is deprecated; in a future version of numpy, it will be understood as (type, (1,)) / '(1,)type'.\n",
      "  _np_qint16 = np.dtype([(\"qint16\", np.int16, 1)])\n",
      "/Users/blessing/PycharmProjects/ContinousActionRL/carl/lib/python3.7/site-packages/tensorboard/compat/tensorflow_stub/dtypes.py:544: FutureWarning: Passing (type, 1) or '1type' as a synonym of type is deprecated; in a future version of numpy, it will be understood as (type, (1,)) / '(1,)type'.\n",
      "  _np_quint16 = np.dtype([(\"quint16\", np.uint16, 1)])\n",
      "/Users/blessing/PycharmProjects/ContinousActionRL/carl/lib/python3.7/site-packages/tensorboard/compat/tensorflow_stub/dtypes.py:545: FutureWarning: Passing (type, 1) or '1type' as a synonym of type is deprecated; in a future version of numpy, it will be understood as (type, (1,)) / '(1,)type'.\n",
      "  _np_qint32 = np.dtype([(\"qint32\", np.int32, 1)])\n",
      "/Users/blessing/PycharmProjects/ContinousActionRL/carl/lib/python3.7/site-packages/tensorboard/compat/tensorflow_stub/dtypes.py:550: FutureWarning: Passing (type, 1) or '1type' as a synonym of type is deprecated; in a future version of numpy, it will be understood as (type, (1,)) / '(1,)type'.\n",
      "  np_resource = np.dtype([(\"resource\", np.ubyte, 1)])\n"
     ],
     "output_type": "stream"
    }
   ],
   "source": [
    "import torch\n",
    "import numpy as np\n",
    "import sys"
   ],
   "metadata": {
    "collapsed": false,
    "pycharm": {
     "name": "#%%\n",
     "is_executing": false
    }
   }
  },
  {
   "cell_type": "code",
   "execution_count": 43,
   "outputs": [
    {
     "name": "stdout",
     "text": [
      "[ 1  3  6 10 15 21]\n"
     ],
     "output_type": "stream"
    }
   ],
   "source": [
    "elems = tf.convert_to_tensor([1, 2, 3, 4, 5, 6])\n",
    "elems2 = tf.convert_to_tensor([1, 2, 3, 4, 5, 6])\n",
    "\n",
    "with tf.Session() as sess:\n",
    "    print(tf.scan(lambda a, x: x + a,\n",
    "            elems).eval())\n",
    "    "
   ],
   "metadata": {
    "collapsed": false,
    "pycharm": {
     "name": "#%%\n",
     "is_executing": false
    }
   }
  },
  {
   "cell_type": "code",
   "execution_count": 33,
   "outputs": [
    {
     "name": "stdout",
     "text": [
      "4\n",
      "3\n",
      "2\n",
      "1\n",
      "0\n",
      "[1 2 3 4]\n"
     ],
     "output_type": "stream"
    }
   ],
   "source": [
    "elems = np.array([1, 2, 3, 4])\n",
    "for i in range(len(elems), -1, -1):\n",
    "\n",
    "print(elems)"
   ],
   "metadata": {
    "collapsed": false,
    "pycharm": {
     "name": "#%%\n",
     "is_executing": false
    }
   }
  },
  {
   "cell_type": "code",
   "execution_count": null,
   "outputs": [],
   "source": [],
   "metadata": {
    "collapsed": false,
    "pycharm": {
     "name": "#%%\n"
    }
   }
  },
  {
   "cell_type": "code",
   "execution_count": 37,
   "outputs": [
    {
     "traceback": [
      "\u001b[0;31m---------------------------------------------------------------------------\u001b[0m",
      "\u001b[0;31mValueError\u001b[0m                                Traceback (most recent call last)",
      "\u001b[0;32m~/PycharmProjects/ContinousActionRL/carl/lib/python3.7/site-packages/tensorflow/python/util/nest.py\u001b[0m in \u001b[0;36massert_same_structure\u001b[0;34m(nest1, nest2, check_types, expand_composites)\u001b[0m\n\u001b[1;32m    296\u001b[0m     _pywrap_tensorflow.AssertSameStructure(nest1, nest2, check_types,\n\u001b[0;32m--> 297\u001b[0;31m                                            expand_composites)\n\u001b[0m\u001b[1;32m    298\u001b[0m   \u001b[0;32mexcept\u001b[0m \u001b[0;34m(\u001b[0m\u001b[0mValueError\u001b[0m\u001b[0;34m,\u001b[0m \u001b[0mTypeError\u001b[0m\u001b[0;34m)\u001b[0m \u001b[0;32mas\u001b[0m \u001b[0me\u001b[0m\u001b[0;34m:\u001b[0m\u001b[0;34m\u001b[0m\u001b[0;34m\u001b[0m\u001b[0m\n",
      "\u001b[0;31mValueError\u001b[0m: The two structures don't have the same nested structure.\n\nFirst structure: type=list str=[<tf.Tensor 'Const_2:0' shape=(6,) dtype=int32>, <tf.Tensor 'Const_3:0' shape=(6,) dtype=int32>]\n\nSecond structure: type=list str=[<tf.Tensor 'scan_14/while/TensorArrayReadV3:0' shape=() dtype=int32>, <tf.Tensor 'scan_14/while/TensorArrayReadV3_1:0' shape=() dtype=int32>, <tf.Tensor 'scan_14/while/Identity_2:0' shape=() dtype=int32>, <tf.Tensor 'scan_14/while/Identity_3:0' shape=() dtype=int32>]\n\nMore specifically: The two structures don't have the same number of elements. First structure: type=list str=[<tf.Tensor 'Const_2:0' shape=(6,) dtype=int32>, <tf.Tensor 'Const_3:0' shape=(6,) dtype=int32>]. Second structure: type=list str=[<tf.Tensor 'scan_14/while/TensorArrayReadV3:0' shape=() dtype=int32>, <tf.Tensor 'scan_14/while/TensorArrayReadV3_1:0' shape=() dtype=int32>, <tf.Tensor 'scan_14/while/Identity_2:0' shape=() dtype=int32>, <tf.Tensor 'scan_14/while/Identity_3:0' shape=() dtype=int32>]",
      "\nDuring handling of the above exception, another exception occurred:\n",
      "\u001b[0;31mValueError\u001b[0m                                Traceback (most recent call last)",
      "\u001b[0;32m<ipython-input-37-b6d636eb19bb>\u001b[0m in \u001b[0;36m<module>\u001b[0;34m\u001b[0m\n\u001b[1;32m      4\u001b[0m \u001b[0;32mwith\u001b[0m \u001b[0mtf\u001b[0m\u001b[0;34m.\u001b[0m\u001b[0mSession\u001b[0m\u001b[0;34m(\u001b[0m\u001b[0;34m)\u001b[0m \u001b[0;32mas\u001b[0m \u001b[0msess\u001b[0m\u001b[0;34m:\u001b[0m\u001b[0;34m\u001b[0m\u001b[0;34m\u001b[0m\u001b[0m\n\u001b[1;32m      5\u001b[0m     print(tf.scan(lambda a, x: x + a,\n\u001b[0;32m----> 6\u001b[0;31m             [elems, elems2]).eval())\n\u001b[0m\u001b[1;32m      7\u001b[0m \u001b[0;34m\u001b[0m\u001b[0m\n",
      "\u001b[0;32m~/PycharmProjects/ContinousActionRL/carl/lib/python3.7/site-packages/tensorflow/python/ops/functional_ops.py\u001b[0m in \u001b[0;36mscan\u001b[0;34m(fn, elems, initializer, parallel_iterations, back_prop, swap_memory, infer_shape, reverse, name)\u001b[0m\n\u001b[1;32m    503\u001b[0m         \u001b[0mback_prop\u001b[0m\u001b[0;34m=\u001b[0m\u001b[0mback_prop\u001b[0m\u001b[0;34m,\u001b[0m\u001b[0;34m\u001b[0m\u001b[0;34m\u001b[0m\u001b[0m\n\u001b[1;32m    504\u001b[0m         \u001b[0mswap_memory\u001b[0m\u001b[0;34m=\u001b[0m\u001b[0mswap_memory\u001b[0m\u001b[0;34m,\u001b[0m\u001b[0;34m\u001b[0m\u001b[0;34m\u001b[0m\u001b[0m\n\u001b[0;32m--> 505\u001b[0;31m         maximum_iterations=n)\n\u001b[0m\u001b[1;32m    506\u001b[0m \u001b[0;34m\u001b[0m\u001b[0m\n\u001b[1;32m    507\u001b[0m     \u001b[0mresults_flat\u001b[0m \u001b[0;34m=\u001b[0m \u001b[0;34m[\u001b[0m\u001b[0mr\u001b[0m\u001b[0;34m.\u001b[0m\u001b[0mstack\u001b[0m\u001b[0;34m(\u001b[0m\u001b[0;34m)\u001b[0m \u001b[0;32mfor\u001b[0m \u001b[0mr\u001b[0m \u001b[0;32min\u001b[0m \u001b[0mr_a\u001b[0m\u001b[0;34m]\u001b[0m\u001b[0;34m\u001b[0m\u001b[0;34m\u001b[0m\u001b[0m\n",
      "\u001b[0;32m~/PycharmProjects/ContinousActionRL/carl/lib/python3.7/site-packages/tensorflow/python/ops/control_flow_ops.py\u001b[0m in \u001b[0;36mwhile_loop\u001b[0;34m(cond, body, loop_vars, shape_invariants, parallel_iterations, back_prop, swap_memory, name, maximum_iterations, return_same_structure)\u001b[0m\n\u001b[1;32m   3499\u001b[0m       \u001b[0mops\u001b[0m\u001b[0;34m.\u001b[0m\u001b[0madd_to_collection\u001b[0m\u001b[0;34m(\u001b[0m\u001b[0mops\u001b[0m\u001b[0;34m.\u001b[0m\u001b[0mGraphKeys\u001b[0m\u001b[0;34m.\u001b[0m\u001b[0mWHILE_CONTEXT\u001b[0m\u001b[0;34m,\u001b[0m \u001b[0mloop_context\u001b[0m\u001b[0;34m)\u001b[0m\u001b[0;34m\u001b[0m\u001b[0;34m\u001b[0m\u001b[0m\n\u001b[1;32m   3500\u001b[0m     result = loop_context.BuildLoop(cond, body, loop_vars, shape_invariants,\n\u001b[0;32m-> 3501\u001b[0;31m                                     return_same_structure)\n\u001b[0m\u001b[1;32m   3502\u001b[0m     \u001b[0;32mif\u001b[0m \u001b[0mmaximum_iterations\u001b[0m \u001b[0;32mis\u001b[0m \u001b[0;32mnot\u001b[0m \u001b[0;32mNone\u001b[0m\u001b[0;34m:\u001b[0m\u001b[0;34m\u001b[0m\u001b[0;34m\u001b[0m\u001b[0m\n\u001b[1;32m   3503\u001b[0m       \u001b[0;32mreturn\u001b[0m \u001b[0mresult\u001b[0m\u001b[0;34m[\u001b[0m\u001b[0;36m1\u001b[0m\u001b[0;34m]\u001b[0m\u001b[0;34m\u001b[0m\u001b[0;34m\u001b[0m\u001b[0m\n",
      "\u001b[0;32m~/PycharmProjects/ContinousActionRL/carl/lib/python3.7/site-packages/tensorflow/python/ops/control_flow_ops.py\u001b[0m in \u001b[0;36mBuildLoop\u001b[0;34m(self, pred, body, loop_vars, shape_invariants, return_same_structure)\u001b[0m\n\u001b[1;32m   3010\u001b[0m       \u001b[0;32mwith\u001b[0m \u001b[0mops\u001b[0m\u001b[0;34m.\u001b[0m\u001b[0mget_default_graph\u001b[0m\u001b[0;34m(\u001b[0m\u001b[0;34m)\u001b[0m\u001b[0;34m.\u001b[0m\u001b[0m_mutation_lock\u001b[0m\u001b[0;34m(\u001b[0m\u001b[0;34m)\u001b[0m\u001b[0;34m:\u001b[0m  \u001b[0;31m# pylint: disable=protected-access\u001b[0m\u001b[0;34m\u001b[0m\u001b[0;34m\u001b[0m\u001b[0m\n\u001b[1;32m   3011\u001b[0m         original_body_result, exit_vars = self._BuildLoop(\n\u001b[0;32m-> 3012\u001b[0;31m             pred, body, original_loop_vars, loop_vars, shape_invariants)\n\u001b[0m\u001b[1;32m   3013\u001b[0m     \u001b[0;32mfinally\u001b[0m\u001b[0;34m:\u001b[0m\u001b[0;34m\u001b[0m\u001b[0;34m\u001b[0m\u001b[0m\n\u001b[1;32m   3014\u001b[0m       \u001b[0mself\u001b[0m\u001b[0;34m.\u001b[0m\u001b[0mExit\u001b[0m\u001b[0;34m(\u001b[0m\u001b[0;34m)\u001b[0m\u001b[0;34m\u001b[0m\u001b[0;34m\u001b[0m\u001b[0m\n",
      "\u001b[0;32m~/PycharmProjects/ContinousActionRL/carl/lib/python3.7/site-packages/tensorflow/python/ops/control_flow_ops.py\u001b[0m in \u001b[0;36m_BuildLoop\u001b[0;34m(self, pred, body, original_loop_vars, loop_vars, shape_invariants)\u001b[0m\n\u001b[1;32m   2935\u001b[0m         expand_composites=True)\n\u001b[1;32m   2936\u001b[0m     \u001b[0mpre_summaries\u001b[0m \u001b[0;34m=\u001b[0m \u001b[0mops\u001b[0m\u001b[0;34m.\u001b[0m\u001b[0mget_collection\u001b[0m\u001b[0;34m(\u001b[0m\u001b[0mops\u001b[0m\u001b[0;34m.\u001b[0m\u001b[0mGraphKeys\u001b[0m\u001b[0;34m.\u001b[0m\u001b[0m_SUMMARY_COLLECTION\u001b[0m\u001b[0;34m)\u001b[0m  \u001b[0;31m# pylint: disable=protected-access\u001b[0m\u001b[0;34m\u001b[0m\u001b[0;34m\u001b[0m\u001b[0m\n\u001b[0;32m-> 2937\u001b[0;31m     \u001b[0mbody_result\u001b[0m \u001b[0;34m=\u001b[0m \u001b[0mbody\u001b[0m\u001b[0;34m(\u001b[0m\u001b[0;34m*\u001b[0m\u001b[0mpacked_vars_for_body\u001b[0m\u001b[0;34m)\u001b[0m\u001b[0;34m\u001b[0m\u001b[0;34m\u001b[0m\u001b[0m\n\u001b[0m\u001b[1;32m   2938\u001b[0m     \u001b[0mpost_summaries\u001b[0m \u001b[0;34m=\u001b[0m \u001b[0mops\u001b[0m\u001b[0;34m.\u001b[0m\u001b[0mget_collection\u001b[0m\u001b[0;34m(\u001b[0m\u001b[0mops\u001b[0m\u001b[0;34m.\u001b[0m\u001b[0mGraphKeys\u001b[0m\u001b[0;34m.\u001b[0m\u001b[0m_SUMMARY_COLLECTION\u001b[0m\u001b[0;34m)\u001b[0m  \u001b[0;31m# pylint: disable=protected-access\u001b[0m\u001b[0;34m\u001b[0m\u001b[0;34m\u001b[0m\u001b[0m\n\u001b[1;32m   2939\u001b[0m     \u001b[0;32mif\u001b[0m \u001b[0;32mnot\u001b[0m \u001b[0mnest\u001b[0m\u001b[0;34m.\u001b[0m\u001b[0mis_sequence_or_composite\u001b[0m\u001b[0;34m(\u001b[0m\u001b[0mbody_result\u001b[0m\u001b[0;34m)\u001b[0m\u001b[0;34m:\u001b[0m\u001b[0;34m\u001b[0m\u001b[0;34m\u001b[0m\u001b[0m\n",
      "\u001b[0;32m~/PycharmProjects/ContinousActionRL/carl/lib/python3.7/site-packages/tensorflow/python/ops/control_flow_ops.py\u001b[0m in \u001b[0;36m<lambda>\u001b[0;34m(i, lv)\u001b[0m\n\u001b[1;32m   3454\u001b[0m         cond = lambda i, lv: (  # pylint: disable=g-long-lambda\n\u001b[1;32m   3455\u001b[0m             math_ops.logical_and(i < maximum_iterations, orig_cond(*lv)))\n\u001b[0;32m-> 3456\u001b[0;31m         \u001b[0mbody\u001b[0m \u001b[0;34m=\u001b[0m \u001b[0;32mlambda\u001b[0m \u001b[0mi\u001b[0m\u001b[0;34m,\u001b[0m \u001b[0mlv\u001b[0m\u001b[0;34m:\u001b[0m \u001b[0;34m(\u001b[0m\u001b[0mi\u001b[0m \u001b[0;34m+\u001b[0m \u001b[0;36m1\u001b[0m\u001b[0;34m,\u001b[0m \u001b[0morig_body\u001b[0m\u001b[0;34m(\u001b[0m\u001b[0;34m*\u001b[0m\u001b[0mlv\u001b[0m\u001b[0;34m)\u001b[0m\u001b[0;34m)\u001b[0m\u001b[0;34m\u001b[0m\u001b[0;34m\u001b[0m\u001b[0m\n\u001b[0m\u001b[1;32m   3457\u001b[0m \u001b[0;34m\u001b[0m\u001b[0m\n\u001b[1;32m   3458\u001b[0m     \u001b[0;32mif\u001b[0m \u001b[0mexecuting_eagerly\u001b[0m\u001b[0;34m:\u001b[0m\u001b[0;34m\u001b[0m\u001b[0;34m\u001b[0m\u001b[0m\n",
      "\u001b[0;32m~/PycharmProjects/ContinousActionRL/carl/lib/python3.7/site-packages/tensorflow/python/ops/functional_ops.py\u001b[0m in \u001b[0;36mcompute\u001b[0;34m(i, a_flat, tas)\u001b[0m\n\u001b[1;32m    482\u001b[0m       \u001b[0ma_out\u001b[0m \u001b[0;34m=\u001b[0m \u001b[0mfn\u001b[0m\u001b[0;34m(\u001b[0m\u001b[0mpacked_a\u001b[0m\u001b[0;34m,\u001b[0m \u001b[0mpacked_elems\u001b[0m\u001b[0;34m)\u001b[0m\u001b[0;34m\u001b[0m\u001b[0;34m\u001b[0m\u001b[0m\n\u001b[1;32m    483\u001b[0m       nest.assert_same_structure(elems if initializer is None else initializer,\n\u001b[0;32m--> 484\u001b[0;31m                                  a_out)\n\u001b[0m\u001b[1;32m    485\u001b[0m       \u001b[0mflat_a_out\u001b[0m \u001b[0;34m=\u001b[0m \u001b[0moutput_flatten\u001b[0m\u001b[0;34m(\u001b[0m\u001b[0ma_out\u001b[0m\u001b[0;34m)\u001b[0m\u001b[0;34m\u001b[0m\u001b[0;34m\u001b[0m\u001b[0m\n\u001b[1;32m    486\u001b[0m       \u001b[0mtas\u001b[0m \u001b[0;34m=\u001b[0m \u001b[0;34m[\u001b[0m\u001b[0mta\u001b[0m\u001b[0;34m.\u001b[0m\u001b[0mwrite\u001b[0m\u001b[0;34m(\u001b[0m\u001b[0mi\u001b[0m\u001b[0;34m,\u001b[0m \u001b[0mvalue\u001b[0m\u001b[0;34m)\u001b[0m \u001b[0;32mfor\u001b[0m \u001b[0;34m(\u001b[0m\u001b[0mta\u001b[0m\u001b[0;34m,\u001b[0m \u001b[0mvalue\u001b[0m\u001b[0;34m)\u001b[0m \u001b[0;32min\u001b[0m \u001b[0mzip\u001b[0m\u001b[0;34m(\u001b[0m\u001b[0mtas\u001b[0m\u001b[0;34m,\u001b[0m \u001b[0mflat_a_out\u001b[0m\u001b[0;34m)\u001b[0m\u001b[0;34m]\u001b[0m\u001b[0;34m\u001b[0m\u001b[0;34m\u001b[0m\u001b[0m\n",
      "\u001b[0;32m~/PycharmProjects/ContinousActionRL/carl/lib/python3.7/site-packages/tensorflow/python/util/nest.py\u001b[0m in \u001b[0;36massert_same_structure\u001b[0;34m(nest1, nest2, check_types, expand_composites)\u001b[0m\n\u001b[1;32m    302\u001b[0m                   \u001b[0;34m\"Entire first structure:\\n%s\\n\"\u001b[0m\u001b[0;34m\u001b[0m\u001b[0;34m\u001b[0m\u001b[0m\n\u001b[1;32m    303\u001b[0m                   \u001b[0;34m\"Entire second structure:\\n%s\"\u001b[0m\u001b[0;34m\u001b[0m\u001b[0;34m\u001b[0m\u001b[0m\n\u001b[0;32m--> 304\u001b[0;31m                   % (str(e), str1, str2))\n\u001b[0m\u001b[1;32m    305\u001b[0m \u001b[0;34m\u001b[0m\u001b[0m\n\u001b[1;32m    306\u001b[0m \u001b[0;34m\u001b[0m\u001b[0m\n",
      "\u001b[0;31mValueError\u001b[0m: The two structures don't have the same nested structure.\n\nFirst structure: type=list str=[<tf.Tensor 'Const_2:0' shape=(6,) dtype=int32>, <tf.Tensor 'Const_3:0' shape=(6,) dtype=int32>]\n\nSecond structure: type=list str=[<tf.Tensor 'scan_14/while/TensorArrayReadV3:0' shape=() dtype=int32>, <tf.Tensor 'scan_14/while/TensorArrayReadV3_1:0' shape=() dtype=int32>, <tf.Tensor 'scan_14/while/Identity_2:0' shape=() dtype=int32>, <tf.Tensor 'scan_14/while/Identity_3:0' shape=() dtype=int32>]\n\nMore specifically: The two structures don't have the same number of elements. First structure: type=list str=[<tf.Tensor 'Const_2:0' shape=(6,) dtype=int32>, <tf.Tensor 'Const_3:0' shape=(6,) dtype=int32>]. Second structure: type=list str=[<tf.Tensor 'scan_14/while/TensorArrayReadV3:0' shape=() dtype=int32>, <tf.Tensor 'scan_14/while/TensorArrayReadV3_1:0' shape=() dtype=int32>, <tf.Tensor 'scan_14/while/Identity_2:0' shape=() dtype=int32>, <tf.Tensor 'scan_14/while/Identity_3:0' shape=() dtype=int32>]\nEntire first structure:\n[., .]\nEntire second structure:\n[., ., ., .]"
     ],
     "ename": "ValueError",
     "evalue": "The two structures don't have the same nested structure.\n\nFirst structure: type=list str=[<tf.Tensor 'Const_2:0' shape=(6,) dtype=int32>, <tf.Tensor 'Const_3:0' shape=(6,) dtype=int32>]\n\nSecond structure: type=list str=[<tf.Tensor 'scan_14/while/TensorArrayReadV3:0' shape=() dtype=int32>, <tf.Tensor 'scan_14/while/TensorArrayReadV3_1:0' shape=() dtype=int32>, <tf.Tensor 'scan_14/while/Identity_2:0' shape=() dtype=int32>, <tf.Tensor 'scan_14/while/Identity_3:0' shape=() dtype=int32>]\n\nMore specifically: The two structures don't have the same number of elements. First structure: type=list str=[<tf.Tensor 'Const_2:0' shape=(6,) dtype=int32>, <tf.Tensor 'Const_3:0' shape=(6,) dtype=int32>]. Second structure: type=list str=[<tf.Tensor 'scan_14/while/TensorArrayReadV3:0' shape=() dtype=int32>, <tf.Tensor 'scan_14/while/TensorArrayReadV3_1:0' shape=() dtype=int32>, <tf.Tensor 'scan_14/while/Identity_2:0' shape=() dtype=int32>, <tf.Tensor 'scan_14/while/Identity_3:0' shape=() dtype=int32>]\nEntire first structure:\n[., .]\nEntire second structure:\n[., ., ., .]",
     "output_type": "error"
    }
   ],
   "source": [
    "elems = tf.convert_to_tensor([1, 2, 3, 4, 5, 6])\n",
    "elems2 = tf.convert_to_tensor([1, 2, 3, 4, 5, 6])\n",
    "\n",
    "with tf.Session() as sess:\n",
    "    print(tf.scan(lambda a, x: x + a,\n",
    "            [elems, elems2]).eval())"
   ],
   "metadata": {
    "collapsed": false,
    "pycharm": {
     "name": "#%%\n",
     "is_executing": false
    }
   }
  },
  {
   "cell_type": "code",
   "execution_count": 4,
   "outputs": [
    {
     "name": "stdout",
     "output_type": "stream",
     "text": [
      "19\n",
      "18\n",
      "17\n",
      "16\n",
      "15\n",
      "14\n",
      "13\n",
      "12\n",
      "11\n",
      "10\n",
      "9\n",
      "8\n",
      "7\n",
      "6\n",
      "5\n",
      "4\n",
      "3\n",
      "2\n",
      "1\n"
     ]
    }
   ],
   "source": [
    "for i in reversed(range(1,20)):\n",
    "    print(i)\n",
    "\n",
    "\n",
    "\n"
   ],
   "metadata": {
    "collapsed": false,
    "pycharm": {
     "name": "#%%\n"
    }
   }
  },
  {
   "cell_type": "code",
   "execution_count": null,
   "outputs": [],
   "source": [
    "def printer():\n",
    "    print(\"Hi\")\n"
   ],
   "metadata": {
    "collapsed": false,
    "pycharm": {
     "name": "#%%\n"
    }
   }
  },
  {
   "cell_type": "code",
   "execution_count": null,
   "outputs": [],
   "source": [
    "for i in range(10):\n",
    "    printer()\n"
   ],
   "metadata": {
    "collapsed": false,
    "pycharm": {
     "name": "#%%\n"
    }
   }
  },
  {
   "cell_type": "code",
   "execution_count": 2,
   "outputs": [
    {
     "name": "stdout",
     "output_type": "stream",
     "text": [
      "[[ 1.         -1.          1.        ]\n",
      " [ 1.11111111 -1.11111111  1.11111111]\n",
      " [ 1.22222222 -1.22222222  1.22222222]\n",
      " [ 1.33333333 -1.33333333  1.33333333]\n",
      " [ 1.44444444 -1.44444444  1.44444444]\n",
      " [ 1.55555556 -1.55555556  1.55555556]\n",
      " [ 1.66666667 -1.66666667  1.66666667]\n",
      " [ 1.77777778 -1.77777778  1.77777778]\n",
      " [ 1.88888889 -1.88888889  1.88888889]\n",
      " [ 2.         -2.          2.        ]]\n"
     ]
    }
   ],
   "source": [
    "import numpy as np\n",
    "a = [1,-1, 1]\n",
    "b = [2,-2, 2]\n",
    "print(np.linspace(a, b, 10))\n"
   ],
   "metadata": {
    "collapsed": false,
    "pycharm": {
     "name": "#%%\n"
    }
   }
  },
  {
   "cell_type": "code",
   "execution_count": 4,
   "outputs": [
    {
     "ename": "NameError",
     "evalue": "name 'nan' is not defined",
     "output_type": "error",
     "traceback": [
      "\u001b[0;31m---------------------------------------------------------------------------\u001b[0m",
      "\u001b[0;31mNameError\u001b[0m                                 Traceback (most recent call last)",
      "\u001b[0;32m<ipython-input-4-08337871ddd6>\u001b[0m in \u001b[0;36m<module>\u001b[0;34m\u001b[0m\n\u001b[1;32m      1\u001b[0m \u001b[0;32mimport\u001b[0m \u001b[0mtorch\u001b[0m\u001b[0;34m\u001b[0m\u001b[0;34m\u001b[0m\u001b[0m\n\u001b[1;32m      2\u001b[0m \u001b[0;34m\u001b[0m\u001b[0m\n\u001b[0;32m----> 3\u001b[0;31m \u001b[0mprint\u001b[0m\u001b[0;34m(\u001b[0m\u001b[0mtorch\u001b[0m\u001b[0;34m.\u001b[0m\u001b[0mtensor\u001b[0m\u001b[0;34m(\u001b[0m\u001b[0;34m[\u001b[0m\u001b[0;36m1\u001b[0m\u001b[0;34m,\u001b[0m \u001b[0mnan\u001b[0m\u001b[0;34m]\u001b[0m\u001b[0;34m)\u001b[0m\u001b[0;34m)\u001b[0m\u001b[0;34m\u001b[0m\u001b[0;34m\u001b[0m\u001b[0m\n\u001b[0m\u001b[1;32m      4\u001b[0m \u001b[0;34m\u001b[0m\u001b[0m\n",
      "\u001b[0;31mNameError\u001b[0m: name 'nan' is not defined"
     ]
    }
   ],
   "source": [
    "import torch\n"
   ],
   "metadata": {
    "collapsed": false,
    "pycharm": {
     "name": "#%%\n"
    }
   }
  },
  {
   "cell_type": "code",
   "execution_count": null,
   "outputs": [],
   "source": [
    "\n"
   ],
   "metadata": {
    "collapsed": false,
    "pycharm": {
     "name": "#%%\n"
    }
   }
  },
  {
   "cell_type": "code",
   "execution_count": null,
   "outputs": [],
   "source": [
    "for i in range(10):\n",
    "    pass\n",
    "\n"
   ],
   "metadata": {
    "collapsed": false,
    "pycharm": {
     "name": "#%%\n"
    }
   }
  },
  {
   "cell_type": "code",
   "execution_count": null,
   "outputs": [],
   "source": [
    "\n"
   ],
   "metadata": {
    "collapsed": false,
    "pycharm": {
     "name": "#%%\n"
    }
   }
  },
  {
   "cell_type": "code",
   "execution_count": 4,
   "outputs": [
    {
     "name": "stdout",
     "text": [
      "tensor(4)\n",
      "tensor(16)\n"
     ],
     "output_type": "stream"
    }
   ],
   "source": [
    "import torch\n",
    "\n",
    "t1 = torch.tensor(4)\n",
    "t2 = torch.tensor(4)\n",
    "\n",
    "t1.pow(2)\n",
    "t2.pow_(2)\n",
    "\n",
    "print(t1)\n",
    "print(t2)\n",
    "\n",
    "\n"
   ],
   "metadata": {
    "collapsed": false,
    "pycharm": {
     "name": "#%%\n",
     "is_executing": false
    }
   }
  },
  {
   "cell_type": "code",
   "execution_count": null,
   "outputs": [],
   "source": [
    "\n"
   ],
   "metadata": {
    "collapsed": false,
    "pycharm": {
     "name": "#%%\n"
    }
   }
  }
 ],
 "metadata": {
  "kernelspec": {
   "display_name": "Python 3",
   "language": "python",
   "name": "python3"
  },
  "language_info": {
   "codemirror_mode": {
    "name": "ipython",
    "version": 2
   },
   "file_extension": ".py",
   "mimetype": "text/x-python",
   "name": "python",
   "nbconvert_exporter": "python",
   "pygments_lexer": "ipython2",
   "version": "2.7.6"
  },
  "pycharm": {
   "stem_cell": {
    "cell_type": "raw",
    "source": [],
    "metadata": {
     "collapsed": false
    }
   }
  }
 },
 "nbformat": 4,
 "nbformat_minor": 0
}